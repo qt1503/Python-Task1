{
 "cells": [
  {
   "cell_type": "code",
   "execution_count": 10,
   "id": "14c03834-9ae8-4904-aa6c-5f7a9bd2933d",
   "metadata": {},
   "outputs": [],
   "source": [
    "import pandas as pd\n",
    "import re\n",
    "import string\n",
    "import nltk\n",
    "import gensim\n",
    "\n",
    "from sklearn.feature_extraction.text import CountVectorizer\n",
    "from nltk.tokenize import word_tokenize\n",
    "from underthesea import word_tokenize"
   ]
  },
  {
   "attachments": {},
   "cell_type": "markdown",
   "id": "ee44b30e-e393-49e5-96cb-53b73250f530",
   "metadata": {},
   "source": [
    "### 1.\tBiểu diễn văn bản sử dụng Bag-of-Words"
   ]
  },
  {
   "cell_type": "code",
   "execution_count": 31,
   "id": "7e35287f-2080-42fc-bd44-75cec06fd5db",
   "metadata": {},
   "outputs": [],
   "source": [
    "documents = [\n",
    "    \"Tôi thích học máy, Học máy rất thú vị, Tôi rất thích sự thú vị\"]\n",
    "\n",
    "#Khởi tạo Vectorizer\n",
    "count_vec = CountVectorizer()\n",
    "count_occurs = count_vec.fit_transform(documents)"
   ]
  },
  {
   "cell_type": "code",
   "execution_count": 32,
   "id": "907746da-1786-4b63-98ba-7f6c28f6d9b0",
   "metadata": {},
   "outputs": [
    {
     "data": {
      "text/html": [
       "<div>\n",
       "<style scoped>\n",
       "    .dataframe tbody tr th:only-of-type {\n",
       "        vertical-align: middle;\n",
       "    }\n",
       "\n",
       "    .dataframe tbody tr th {\n",
       "        vertical-align: top;\n",
       "    }\n",
       "\n",
       "    .dataframe thead th {\n",
       "        text-align: right;\n",
       "    }\n",
       "</style>\n",
       "<table border=\"1\" class=\"dataframe\">\n",
       "  <thead>\n",
       "    <tr style=\"text-align: right;\">\n",
       "      <th></th>\n",
       "      <th>Từ</th>\n",
       "      <th>Số lần</th>\n",
       "    </tr>\n",
       "  </thead>\n",
       "  <tbody>\n",
       "    <tr>\n",
       "      <th>0</th>\n",
       "      <td>học</td>\n",
       "      <td>2</td>\n",
       "    </tr>\n",
       "    <tr>\n",
       "      <th>1</th>\n",
       "      <td>máy</td>\n",
       "      <td>2</td>\n",
       "    </tr>\n",
       "    <tr>\n",
       "      <th>2</th>\n",
       "      <td>rất</td>\n",
       "      <td>2</td>\n",
       "    </tr>\n",
       "    <tr>\n",
       "      <th>4</th>\n",
       "      <td>thích</td>\n",
       "      <td>2</td>\n",
       "    </tr>\n",
       "    <tr>\n",
       "      <th>5</th>\n",
       "      <td>thú</td>\n",
       "      <td>2</td>\n",
       "    </tr>\n",
       "  </tbody>\n",
       "</table>\n",
       "</div>"
      ],
      "text/plain": [
       "      Từ  Số lần\n",
       "0    học       2\n",
       "1    máy       2\n",
       "2    rất       2\n",
       "4  thích       2\n",
       "5    thú       2"
      ]
     },
     "execution_count": 32,
     "metadata": {},
     "output_type": "execute_result"
    }
   ],
   "source": [
    "count_occur_df = pd.DataFrame(\n",
    "    (count, word) for word, count in\n",
    "    zip(count_occurs.toarray().tolist()[0],\n",
    "        count_vec.get_feature_names_out()))\n",
    "count_occur_df.columns = ['Từ', 'Số lần']\n",
    "count_occur_df.sort_values('Số lần', ascending=False, inplace=True)\n",
    "count_occur_df.head()"
   ]
  },
  {
   "cell_type": "code",
   "execution_count": 19,
   "id": "3cb3cff0-0170-48a1-bbfa-4c7a6c0c88eb",
   "metadata": {},
   "outputs": [
    {
     "name": "stdout",
     "output_type": "stream",
     "text": [
      "['học' 'máy' 'rất' 'sự' 'thích' 'thú' 'tôi' 'vị']\n"
     ]
    }
   ],
   "source": [
    "print(count_vec.get_feature_names_out())"
   ]
  },
  {
   "cell_type": "code",
   "execution_count": 33,
   "id": "7c559359-7ca3-4ad9-99d2-af2e5ec58805",
   "metadata": {},
   "outputs": [
    {
     "name": "stdout",
     "output_type": "stream",
     "text": [
      "[[2 2 2 1 2 2 2 2]]\n"
     ]
    }
   ],
   "source": [
    "print(count_occurs.toarray())"
   ]
  },
  {
   "cell_type": "code",
   "execution_count": 52,
   "id": "bc56d759-c1eb-438c-b430-b17d8714e114",
   "metadata": {},
   "outputs": [
    {
     "name": "stdout",
     "output_type": "stream",
     "text": [
      "['học máy' 'máy rất' 'rất thích' 'rất thú' 'sự thú' 'thích học' 'thích sự'\n",
      " 'thú vị' 'tôi rất' 'tôi thích']\n",
      "[[1 0 0 0 0 1 0 0 0 1]\n",
      " [1 1 0 1 0 0 0 1 0 0]\n",
      " [0 0 1 0 1 0 1 1 1 0]]\n"
     ]
    }
   ],
   "source": [
    "docs = [\n",
    "    \"Tôi thích học máy\", \n",
    "    \"Học máy rất thú vị\", \n",
    "    \"Tôi rất thích sự thú vị\"]\n",
    "vectorizer2 = CountVectorizer(analyzer='word', ngram_range = (2, 2))\n",
    "X2= vectorizer2.fit_transform(docs)\n",
    "print(vectorizer2.get_feature_names_out())\n",
    "print(X2.toarray())"
   ]
  },
  {
   "cell_type": "markdown",
   "id": "88e0f5f5-0466-402b-9c6e-170652b577a7",
   "metadata": {},
   "source": [
    "### 2.\tSử dụng TF-IDF để biểu diễn văn bản"
   ]
  },
  {
   "cell_type": "code",
   "execution_count": 147,
   "id": "73568f2f-e257-4f25-96cf-0997a14012b6",
   "metadata": {},
   "outputs": [],
   "source": [
    "from underthesea import word_tokenize\n",
    "from sklearn.feature_extraction.text import TfidfVectorizer\n",
    "import math"
   ]
  },
  {
   "cell_type": "code",
   "execution_count": 139,
   "id": "16993b1d-9a0b-40f4-aec3-f11978872a4e",
   "metadata": {},
   "outputs": [],
   "source": [
    "documentA = 'Tôi cảm thấy rất hạnh phúc và tràn đầy năng lượng hôm nay.'\n",
    "documentB = 'Hôm nay là một ngày thật tồi tệ, tôi rất buồn và thất vọng.'"
   ]
  },
  {
   "cell_type": "code",
   "execution_count": 140,
   "id": "603f5aa6-4d4a-4210-9a8b-2110d9838ba4",
   "metadata": {
    "jupyter": {
     "source_hidden": true
    }
   },
   "outputs": [],
   "source": [
    "bagOfWordsA = re.sub(f\"[{re.escape(string.punctuation)}]\", \"\", documentA).lower().split(' ')\n",
    "bagOfWordsB = re.sub(f\"[{re.escape(string.punctuation)}]\", \"\", documentB).lower().split(' ')"
   ]
  },
  {
   "cell_type": "code",
   "execution_count": 141,
   "id": "482bb56e-0b03-4bd2-9817-8d3ed5942287",
   "metadata": {
    "collapsed": true,
    "jupyter": {
     "outputs_hidden": true,
     "source_hidden": true
    }
   },
   "outputs": [
    {
     "data": {
      "text/plain": [
       "{'buồn',\n",
       " 'cảm',\n",
       " 'hôm',\n",
       " 'hạnh',\n",
       " 'là',\n",
       " 'lượng',\n",
       " 'một',\n",
       " 'nay',\n",
       " 'ngày',\n",
       " 'năng',\n",
       " 'phúc',\n",
       " 'rất',\n",
       " 'thất',\n",
       " 'thấy',\n",
       " 'thật',\n",
       " 'tràn',\n",
       " 'tôi',\n",
       " 'tệ',\n",
       " 'tồi',\n",
       " 'và',\n",
       " 'vọng',\n",
       " 'đầy'}"
      ]
     },
     "execution_count": 141,
     "metadata": {},
     "output_type": "execute_result"
    }
   ],
   "source": [
    "uniqueWords = set(bagOfWordsA).union(set(bagOfWordsB))\n",
    "uniqueWords"
   ]
  },
  {
   "cell_type": "code",
   "execution_count": 142,
   "id": "83aa9900-bbb5-47ac-94a6-02c76393b949",
   "metadata": {},
   "outputs": [],
   "source": [
    "numOfWordsA = dict.fromkeys(uniqueWords, 0)\n",
    "for wordA in bagOfWordsA:\n",
    "    numOfWordsA[wordA] += 1\n",
    "numOfWordsB = dict.fromkeys(uniqueWords, 0)\n",
    "for wordB in bagOfWordsB:\n",
    "    numOfWordsB[wordB] += 1"
   ]
  },
  {
   "cell_type": "code",
   "execution_count": 143,
   "id": "84bc112c-4e5d-4f6c-9888-31144ade2972",
   "metadata": {
    "collapsed": true,
    "jupyter": {
     "outputs_hidden": true,
     "source_hidden": true
    }
   },
   "outputs": [
    {
     "data": {
      "text/plain": [
       "{'và': 1,\n",
       " 'tràn': 1,\n",
       " 'buồn': 0,\n",
       " 'phúc': 1,\n",
       " 'nay': 1,\n",
       " 'là': 0,\n",
       " 'thất': 0,\n",
       " 'đầy': 1,\n",
       " 'vọng': 0,\n",
       " 'hạnh': 1,\n",
       " 'lượng': 1,\n",
       " 'năng': 1,\n",
       " 'thật': 0,\n",
       " 'cảm': 1,\n",
       " 'ngày': 0,\n",
       " 'tồi': 0,\n",
       " 'thấy': 1,\n",
       " 'tệ': 0,\n",
       " 'tôi': 1,\n",
       " 'hôm': 1,\n",
       " 'rất': 1,\n",
       " 'một': 0}"
      ]
     },
     "execution_count": 143,
     "metadata": {},
     "output_type": "execute_result"
    }
   ],
   "source": [
    "numOfWordsA"
   ]
  },
  {
   "cell_type": "code",
   "execution_count": 144,
   "id": "d2cd5391-a6df-4ca0-80a9-e77fe60c6225",
   "metadata": {
    "jupyter": {
     "source_hidden": true
    }
   },
   "outputs": [],
   "source": [
    "def computeTF(wordDict, bagOfWords):\n",
    "    tfDict = {}\n",
    "    bagOfWordsCount = len(bagOfWords)\n",
    "    for word, count in wordDict.items():\n",
    "        tfDict[word] = count / float(bagOfWordsCount)\n",
    "    return tfDict"
   ]
  },
  {
   "cell_type": "code",
   "execution_count": 145,
   "id": "bbe47b3a-1b4f-47fe-95e4-0b40d4e606d9",
   "metadata": {
    "jupyter": {
     "source_hidden": true
    }
   },
   "outputs": [],
   "source": [
    "tfA = computeTF(numOfWordsA, bagOfWordsA)\n",
    "tfB = computeTF(numOfWordsB, bagOfWordsB)"
   ]
  },
  {
   "cell_type": "code",
   "execution_count": 146,
   "id": "2c608db5-da5c-4471-bba3-80c152127346",
   "metadata": {
    "collapsed": true,
    "jupyter": {
     "outputs_hidden": true
    }
   },
   "outputs": [
    {
     "data": {
      "text/plain": [
       "{'và': 0.07692307692307693,\n",
       " 'tràn': 0.07692307692307693,\n",
       " 'buồn': 0.0,\n",
       " 'phúc': 0.07692307692307693,\n",
       " 'nay': 0.07692307692307693,\n",
       " 'là': 0.0,\n",
       " 'thất': 0.0,\n",
       " 'đầy': 0.07692307692307693,\n",
       " 'vọng': 0.0,\n",
       " 'hạnh': 0.07692307692307693,\n",
       " 'lượng': 0.07692307692307693,\n",
       " 'năng': 0.07692307692307693,\n",
       " 'thật': 0.0,\n",
       " 'cảm': 0.07692307692307693,\n",
       " 'ngày': 0.0,\n",
       " 'tồi': 0.0,\n",
       " 'thấy': 0.07692307692307693,\n",
       " 'tệ': 0.0,\n",
       " 'tôi': 0.07692307692307693,\n",
       " 'hôm': 0.07692307692307693,\n",
       " 'rất': 0.07692307692307693,\n",
       " 'một': 0.0}"
      ]
     },
     "execution_count": 146,
     "metadata": {},
     "output_type": "execute_result"
    }
   ],
   "source": [
    "tfA"
   ]
  },
  {
   "cell_type": "code",
   "execution_count": 160,
   "id": "3cd9d76a-1f02-4fae-b775-a0372f134dd8",
   "metadata": {
    "jupyter": {
     "source_hidden": true
    }
   },
   "outputs": [],
   "source": [
    "def computeIDF(document):\n",
    "    N = len(document)\n",
    "\n",
    "    idfDict = dict.fromkeys(document[0].keys(), 0)\n",
    "    for doc in document:\n",
    "        for word, val in doc.items():\n",
    "            if val > 0:\n",
    "                idfDict[word] += 1\n",
    "\n",
    "    for word, val in idfDict.items():\n",
    "        idfDict[word] = math.log(N /float(val))\n",
    "        idfDict[word] = N / float(val)\n",
    "    return idfDict"
   ]
  },
  {
   "cell_type": "code",
   "execution_count": 161,
   "id": "a9b6403f-4e0e-4b7f-a494-0948d509c0c5",
   "metadata": {
    "jupyter": {
     "source_hidden": true
    }
   },
   "outputs": [],
   "source": [
    "documents_example = [numOfWordsA, numOfWordsB]\n",
    "idfs = computeIDF(documents_example)"
   ]
  },
  {
   "cell_type": "code",
   "execution_count": 162,
   "id": "600a1b4f-4ce0-42ee-8b79-6e6bf2a6b760",
   "metadata": {
    "collapsed": true,
    "jupyter": {
     "outputs_hidden": true
    },
    "scrolled": true
   },
   "outputs": [
    {
     "data": {
      "text/plain": [
       "{'và': 1.0,\n",
       " 'tràn': 2.0,\n",
       " 'buồn': 2.0,\n",
       " 'phúc': 2.0,\n",
       " 'nay': 1.0,\n",
       " 'là': 2.0,\n",
       " 'thất': 2.0,\n",
       " 'đầy': 2.0,\n",
       " 'vọng': 2.0,\n",
       " 'hạnh': 2.0,\n",
       " 'lượng': 2.0,\n",
       " 'năng': 2.0,\n",
       " 'thật': 2.0,\n",
       " 'cảm': 2.0,\n",
       " 'ngày': 2.0,\n",
       " 'tồi': 2.0,\n",
       " 'thấy': 2.0,\n",
       " 'tệ': 2.0,\n",
       " 'tôi': 1.0,\n",
       " 'hôm': 1.0,\n",
       " 'rất': 1.0,\n",
       " 'một': 2.0}"
      ]
     },
     "execution_count": 162,
     "metadata": {},
     "output_type": "execute_result"
    }
   ],
   "source": [
    "idfs"
   ]
  },
  {
   "cell_type": "code",
   "execution_count": 164,
   "id": "eaf9b9f3-f2e0-4302-b5f9-0113f5310c51",
   "metadata": {
    "jupyter": {
     "source_hidden": true
    }
   },
   "outputs": [],
   "source": [
    "def computeTFIDF(tfBagOfWords, idfs):\n",
    "    tfidf ={}\n",
    "    for word, tf in tfBagOfWords.items():\n",
    "        tfidf[word] = tf * idfs[word]\n",
    "    return tfidf"
   ]
  },
  {
   "cell_type": "code",
   "execution_count": 165,
   "id": "0111f24b-24d6-42b3-ab24-6eac1608b7b0",
   "metadata": {
    "jupyter": {
     "source_hidden": true
    }
   },
   "outputs": [],
   "source": [
    "tfidfA = computeTFIDF(tfA, idfs)\n",
    "tfidfB = computeTFIDF(tfB, idfs)\n",
    "df = pd.DataFrame([tfidfA, tfidfB])"
   ]
  },
  {
   "cell_type": "code",
   "execution_count": 166,
   "id": "c35f2692-aab7-4304-bca9-fc4251188753",
   "metadata": {
    "collapsed": true,
    "jupyter": {
     "outputs_hidden": true
    },
    "scrolled": true
   },
   "outputs": [
    {
     "data": {
      "text/html": [
       "<div>\n",
       "<style scoped>\n",
       "    .dataframe tbody tr th:only-of-type {\n",
       "        vertical-align: middle;\n",
       "    }\n",
       "\n",
       "    .dataframe tbody tr th {\n",
       "        vertical-align: top;\n",
       "    }\n",
       "\n",
       "    .dataframe thead th {\n",
       "        text-align: right;\n",
       "    }\n",
       "</style>\n",
       "<table border=\"1\" class=\"dataframe\">\n",
       "  <thead>\n",
       "    <tr style=\"text-align: right;\">\n",
       "      <th></th>\n",
       "      <th>và</th>\n",
       "      <th>tràn</th>\n",
       "      <th>buồn</th>\n",
       "      <th>phúc</th>\n",
       "      <th>nay</th>\n",
       "      <th>là</th>\n",
       "      <th>thất</th>\n",
       "      <th>đầy</th>\n",
       "      <th>vọng</th>\n",
       "      <th>hạnh</th>\n",
       "      <th>...</th>\n",
       "      <th>thật</th>\n",
       "      <th>cảm</th>\n",
       "      <th>ngày</th>\n",
       "      <th>tồi</th>\n",
       "      <th>thấy</th>\n",
       "      <th>tệ</th>\n",
       "      <th>tôi</th>\n",
       "      <th>hôm</th>\n",
       "      <th>rất</th>\n",
       "      <th>một</th>\n",
       "    </tr>\n",
       "  </thead>\n",
       "  <tbody>\n",
       "    <tr>\n",
       "      <th>0</th>\n",
       "      <td>0.076923</td>\n",
       "      <td>0.153846</td>\n",
       "      <td>0.000000</td>\n",
       "      <td>0.153846</td>\n",
       "      <td>0.076923</td>\n",
       "      <td>0.000000</td>\n",
       "      <td>0.000000</td>\n",
       "      <td>0.153846</td>\n",
       "      <td>0.000000</td>\n",
       "      <td>0.153846</td>\n",
       "      <td>...</td>\n",
       "      <td>0.000000</td>\n",
       "      <td>0.153846</td>\n",
       "      <td>0.000000</td>\n",
       "      <td>0.000000</td>\n",
       "      <td>0.153846</td>\n",
       "      <td>0.000000</td>\n",
       "      <td>0.076923</td>\n",
       "      <td>0.076923</td>\n",
       "      <td>0.076923</td>\n",
       "      <td>0.000000</td>\n",
       "    </tr>\n",
       "    <tr>\n",
       "      <th>1</th>\n",
       "      <td>0.071429</td>\n",
       "      <td>0.000000</td>\n",
       "      <td>0.142857</td>\n",
       "      <td>0.000000</td>\n",
       "      <td>0.071429</td>\n",
       "      <td>0.142857</td>\n",
       "      <td>0.142857</td>\n",
       "      <td>0.000000</td>\n",
       "      <td>0.142857</td>\n",
       "      <td>0.000000</td>\n",
       "      <td>...</td>\n",
       "      <td>0.142857</td>\n",
       "      <td>0.000000</td>\n",
       "      <td>0.142857</td>\n",
       "      <td>0.142857</td>\n",
       "      <td>0.000000</td>\n",
       "      <td>0.142857</td>\n",
       "      <td>0.071429</td>\n",
       "      <td>0.071429</td>\n",
       "      <td>0.071429</td>\n",
       "      <td>0.142857</td>\n",
       "    </tr>\n",
       "  </tbody>\n",
       "</table>\n",
       "<p>2 rows × 22 columns</p>\n",
       "</div>"
      ],
      "text/plain": [
       "         và      tràn      buồn      phúc       nay        là      thất  \\\n",
       "0  0.076923  0.153846  0.000000  0.153846  0.076923  0.000000  0.000000   \n",
       "1  0.071429  0.000000  0.142857  0.000000  0.071429  0.142857  0.142857   \n",
       "\n",
       "        đầy      vọng      hạnh  ...      thật       cảm      ngày       tồi  \\\n",
       "0  0.153846  0.000000  0.153846  ...  0.000000  0.153846  0.000000  0.000000   \n",
       "1  0.000000  0.142857  0.000000  ...  0.142857  0.000000  0.142857  0.142857   \n",
       "\n",
       "       thấy        tệ       tôi       hôm       rất       một  \n",
       "0  0.153846  0.000000  0.076923  0.076923  0.076923  0.000000  \n",
       "1  0.000000  0.142857  0.071429  0.071429  0.071429  0.142857  \n",
       "\n",
       "[2 rows x 22 columns]"
      ]
     },
     "execution_count": 166,
     "metadata": {},
     "output_type": "execute_result"
    }
   ],
   "source": [
    "df"
   ]
  },
  {
   "cell_type": "code",
   "execution_count": 173,
   "id": "a3cb2157-45b5-44c3-867f-d3f7e8d3782f",
   "metadata": {},
   "outputs": [],
   "source": [
    "tfidfDocuments = [documentA, documentB]\n",
    "tokenized_docs = [word_tokenize(doc, format=\"text\") for doc in tfidfDocuments]\n",
    "vectorizer = TfidfVectorizer()\n",
    "vectors = vectorizer.fit_transform(tokenized_docs)"
   ]
  },
  {
   "cell_type": "code",
   "execution_count": 175,
   "id": "a4116a82-1826-4b32-ac96-ceb8b15cf7cc",
   "metadata": {},
   "outputs": [
    {
     "data": {
      "text/html": [
       "<div>\n",
       "<style scoped>\n",
       "    .dataframe tbody tr th:only-of-type {\n",
       "        vertical-align: middle;\n",
       "    }\n",
       "\n",
       "    .dataframe tbody tr th {\n",
       "        vertical-align: top;\n",
       "    }\n",
       "\n",
       "    .dataframe thead th {\n",
       "        text-align: right;\n",
       "    }\n",
       "</style>\n",
       "<table border=\"1\" class=\"dataframe\">\n",
       "  <thead>\n",
       "    <tr style=\"text-align: right;\">\n",
       "      <th></th>\n",
       "      <th>buồn</th>\n",
       "      <th>cảm_thấy</th>\n",
       "      <th>hôm_nay</th>\n",
       "      <th>hạnh_phúc</th>\n",
       "      <th>là</th>\n",
       "      <th>một</th>\n",
       "      <th>ngày</th>\n",
       "      <th>năng_lượng</th>\n",
       "      <th>rất</th>\n",
       "      <th>thất_vọng</th>\n",
       "      <th>thật</th>\n",
       "      <th>tràn_đầy</th>\n",
       "      <th>tôi</th>\n",
       "      <th>tồi_tệ</th>\n",
       "      <th>và</th>\n",
       "    </tr>\n",
       "  </thead>\n",
       "  <tbody>\n",
       "    <tr>\n",
       "      <th>0</th>\n",
       "      <td>0.000000</td>\n",
       "      <td>0.407401</td>\n",
       "      <td>0.289869</td>\n",
       "      <td>0.407401</td>\n",
       "      <td>0.000000</td>\n",
       "      <td>0.000000</td>\n",
       "      <td>0.000000</td>\n",
       "      <td>0.407401</td>\n",
       "      <td>0.289869</td>\n",
       "      <td>0.000000</td>\n",
       "      <td>0.000000</td>\n",
       "      <td>0.407401</td>\n",
       "      <td>0.289869</td>\n",
       "      <td>0.000000</td>\n",
       "      <td>0.289869</td>\n",
       "    </tr>\n",
       "    <tr>\n",
       "      <th>1</th>\n",
       "      <td>0.332872</td>\n",
       "      <td>0.000000</td>\n",
       "      <td>0.236841</td>\n",
       "      <td>0.000000</td>\n",
       "      <td>0.332872</td>\n",
       "      <td>0.332872</td>\n",
       "      <td>0.332872</td>\n",
       "      <td>0.000000</td>\n",
       "      <td>0.236841</td>\n",
       "      <td>0.332872</td>\n",
       "      <td>0.332872</td>\n",
       "      <td>0.000000</td>\n",
       "      <td>0.236841</td>\n",
       "      <td>0.332872</td>\n",
       "      <td>0.236841</td>\n",
       "    </tr>\n",
       "  </tbody>\n",
       "</table>\n",
       "</div>"
      ],
      "text/plain": [
       "       buồn  cảm_thấy   hôm_nay  hạnh_phúc        là       một      ngày  \\\n",
       "0  0.000000  0.407401  0.289869   0.407401  0.000000  0.000000  0.000000   \n",
       "1  0.332872  0.000000  0.236841   0.000000  0.332872  0.332872  0.332872   \n",
       "\n",
       "   năng_lượng       rất  thất_vọng      thật  tràn_đầy       tôi    tồi_tệ  \\\n",
       "0    0.407401  0.289869   0.000000  0.000000  0.407401  0.289869  0.000000   \n",
       "1    0.000000  0.236841   0.332872  0.332872  0.000000  0.236841  0.332872   \n",
       "\n",
       "         và  \n",
       "0  0.289869  \n",
       "1  0.236841  "
      ]
     },
     "execution_count": 175,
     "metadata": {},
     "output_type": "execute_result"
    }
   ],
   "source": [
    "df_tfidf = pd.DataFrame(vectors.toarray(), columns=vectorizer.get_feature_names_out())\n",
    "df_tfidf"
   ]
  },
  {
   "cell_type": "markdown",
   "id": "3b4b1084-b62d-4e6e-b61d-4cf3e333fd3d",
   "metadata": {},
   "source": [
    "### 3.\tThực hành với Word Embeddings (Word2Vec, GloVe, FastText)"
   ]
  },
  {
   "cell_type": "markdown",
   "id": "5887a8ff-d1e5-466e-ae47-a0c04d121b16",
   "metadata": {},
   "source": [
    "#### Word2Vec"
   ]
  },
  {
   "cell_type": "code",
   "execution_count": 11,
   "id": "e8b97f5c-722a-4333-a484-1a7390ada307",
   "metadata": {},
   "outputs": [],
   "source": [
    "documents_word2Vec = [\n",
    "    \"Tôi cảm thấy rất hạnh phúc và tràn đầy năng lượng hôm nay.\",\n",
    "    \"Hôm nay là một ngày thật tồi tệ, tôi rất buồn và thất vọng.\",\n",
    "    \"Anh ta bình thản trước mọi khó khăn.\",\n",
    "    \"Cô ấy sợ hãi khi ở một mình trong bóng tối.\"\n",
    "]"
   ]
  },
  {
   "cell_type": "code",
   "execution_count": 12,
   "id": "996cd4e1-1180-4eb0-9936-65bbf34d822d",
   "metadata": {},
   "outputs": [],
   "source": [
    "tokenized_doc = [word_tokenize(doc, format=\"text\").split() for doc in documents_word2Vec]"
   ]
  },
  {
   "cell_type": "code",
   "execution_count": 14,
   "id": "c7ad2bfc-5568-4f65-a833-6bb05058f5ac",
   "metadata": {},
   "outputs": [],
   "source": [
    "model = gensim.models.Word2Vec(\n",
    "    sentences = tokenized_doc, # dữ liệu đầu vào\n",
    "    vector_size = 50, # default value of vector_size = 100, embedding size\n",
    "    window = 10,\n",
    "    min_count = 1, # default value of min_count = 5\n",
    "    workers = 4) # default value of workers = 3"
   ]
  },
  {
   "cell_type": "code",
   "execution_count": null,
   "id": "49549b16-9f79-4ff6-b572-c88dd667a635",
   "metadata": {},
   "outputs": [],
   "source": []
  }
 ],
 "metadata": {
  "kernelspec": {
   "display_name": "Python 3 (ipykernel)",
   "language": "python",
   "name": "python3"
  },
  "language_info": {
   "codemirror_mode": {
    "name": "ipython",
    "version": 3
   },
   "file_extension": ".py",
   "mimetype": "text/x-python",
   "name": "python",
   "nbconvert_exporter": "python",
   "pygments_lexer": "ipython3",
   "version": "3.11.3"
  }
 },
 "nbformat": 4,
 "nbformat_minor": 5
}
