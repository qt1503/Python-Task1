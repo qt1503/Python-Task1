{
 "cells": [
  {
   "cell_type": "code",
   "execution_count": 11,
   "id": "initial_id",
   "metadata": {
    "jupyter": {
     "is_executing": true
    }
   },
   "outputs": [
    {
     "name": "stderr",
     "output_type": "stream",
     "text": [
      "[nltk_data] Downloading package punkt to /Users/quytien/nltk_data...\n",
      "[nltk_data]   Package punkt is already up-to-date!\n",
      "[nltk_data] Downloading package stopwords to\n",
      "[nltk_data]     /Users/quytien/nltk_data...\n",
      "[nltk_data]   Package stopwords is already up-to-date!\n",
      "[nltk_data] Downloading package wordnet to /Users/quytien/nltk_data...\n"
     ]
    },
    {
     "data": {
      "text/plain": [
       "True"
      ]
     },
     "execution_count": 11,
     "metadata": {},
     "output_type": "execute_result"
    }
   ],
   "source": [
    "import re\n",
    "import emoji\n",
    "import string\n",
    "import unicodedata\n",
    "import nltk\n",
    "from underthesea import word_tokenize, pos_tag\n",
    "from nltk.corpus import stopwords\n",
    "from nltk.util import ngrams\n",
    "from nltk.stem import PorterStemmer\n",
    "from nltk.stem import WordNetLemmatizer\n",
    "from collections import Counter\n",
    "from collections import defaultdict\n",
    "from vncorenlp import VnCoreNLP\n",
    "\n",
    "\n",
    "nltk.download('punkt')\n",
    "nltk.download('stopwords')\n",
    "nltk.download('wordnet')"
   ]
  },
  {
   "attachments": {},
   "cell_type": "markdown",
   "id": "461c0bf7-db4b-4096-88ac-3f2e6da37d1c",
   "metadata": {},
   "source": [
    "### 1. Loại bỏ ký tự đặc biệt, dấu câu, emoji \n",
    "#### *- Loại bỏ ký tự đặc biệt không xoá các ký tự tiếng Việt (Unicode property): **r\"[^\\w\\sÀ-ỹ]\"*** <br /> *- Loại bỏ toàn bộ ký tự đặc biệt, chỉ giữ lại các ký tự ASCII (tiếng Anh không dấu): **r\"[^a-zA-Z0-9]\"***"
   ]
  },
  {
   "cell_type": "code",
   "execution_count": 7,
   "id": "5367cc99-6680-4177-b26b-7395f1f2a242",
   "metadata": {},
   "outputs": [
    {
     "name": "stdout",
     "output_type": "stream",
     "text": [
      "Chỉ cần kiên nhẫn rồi mọi thứ sẽ đến\n"
     ]
    }
   ],
   "source": [
    "txt = \"Chỉ cầ$n kiên nh@ẫn rồi mọi t.hứ sẽ đến.\"\n",
    "\n",
    "new_string = re.sub(r\"[^\\w\\sÀ-ỹ]\",\"\",txt)\n",
    "print(new_string)"
   ]
  },
  {
   "cell_type": "markdown",
   "id": "f800a17c-65ae-4c1c-8638-a9f954d603be",
   "metadata": {},
   "source": [
    "#### Loại bỏ dấu câu"
   ]
  },
  {
   "cell_type": "code",
   "execution_count": 15,
   "id": "94dfdf50-c859-4bcd-8187-7b8f7a6a46db",
   "metadata": {},
   "outputs": [
    {
     "name": "stdout",
     "output_type": "stream",
     "text": [
      "Cuộc sống không phải lúc nào cũng như mình muốn\n"
     ]
    }
   ],
   "source": [
    "text = \"Cuộc, sống không? phải lúc nào; cũng như mình: muốn!\"\n",
    "\n",
    "new_string = re.sub(f\"[{re.escape(string.punctuation)}]\", \"\", text)\n",
    "print(new_string)"
   ]
  },
  {
   "cell_type": "markdown",
   "id": "d20e495c-39fa-45cb-b09c-07d53382b75b",
   "metadata": {},
   "source": [
    "#### Loại bỏ emoji"
   ]
  },
  {
   "cell_type": "code",
   "execution_count": 20,
   "id": "65a909f3-f878-403e-99bf-ad87b2067dc6",
   "metadata": {},
   "outputs": [
    {
     "name": "stdout",
     "output_type": "stream",
     "text": [
      "Hôm nay trời đẹp quá! Đi chơi thôi \n"
     ]
    }
   ],
   "source": [
    "text = \"Hôm nay trời đẹp quá😍🌞! Đi chơi thôi 🏖️🚗\"\n",
    "\n",
    "new_string = emoji.replace_emoji(text, replace='')\n",
    "print(new_string)"
   ]
  },
  {
   "attachments": {},
   "cell_type": "markdown",
   "id": "22390dfb-b8cb-44a9-85dc-4f831a64d1d0",
   "metadata": {},
   "source": [
    "### 2.\tChuẩn hóa và tách từ tiếng Việt\n",
    "#### Tách từ sử dụng thư viện underthesea (hỗ trợ version 10, 11)"
   ]
  },
  {
   "cell_type": "code",
   "execution_count": 2,
   "id": "21303f6d-2926-47f5-a416-8df91603d82f",
   "metadata": {},
   "outputs": [
    {
     "name": "stdout",
     "output_type": "stream",
     "text": [
      "Và em luôn tin sau cơn mưa cầu vồng sẽ lấp_lánh .\n"
     ]
    }
   ],
   "source": [
    "txt = \"Và em luôn tin sau cơn mưa cầu vồng sẽ lấp lánh.\"\n",
    "\n",
    "tokens = word_tokenize(txt, format=\"text\")\n",
    "print(tokens)"
   ]
  },
  {
   "attachments": {},
   "cell_type": "markdown",
   "id": "fa062532-e3c7-4220-ba25-55193e715bd9",
   "metadata": {},
   "source": [
    "#### Tách từ sử dụng thư viện VnCoreNLP"
   ]
  },
  {
   "cell_type": "code",
   "execution_count": 8,
   "id": "9af48cc6-1734-4f73-9592-84ee8ccb4df3",
   "metadata": {},
   "outputs": [
    {
     "name": "stdout",
     "output_type": "stream",
     "text": [
      "[['Và', 'em', 'luôn', 'tin', 'sau', 'cơn', 'mưa', 'cầu_vồng', 'sẽ', 'lấp_lánh', '.']]\n"
     ]
    }
   ],
   "source": [
    "vncorenlp = VnCoreNLP(\n",
    "    \"/Users/quytien/VnCoreNLP/VnCoreNLP-1.2.jar\", \n",
    "    annotators=\"wseg\", \n",
    "    max_heap_size='-Xmx2g'\n",
    ")\n",
    "res = vncorenlp.tokenize(txt)\n",
    "print(res)"
   ]
  },
  {
   "cell_type": "markdown",
   "id": "de9c8a29-c9b3-4684-8828-794ea309e284",
   "metadata": {},
   "source": [
    "#### Chuẩn hoá"
   ]
  },
  {
   "cell_type": "code",
   "execution_count": 8,
   "id": "118473e9-124a-43e7-bb5d-7f6ff3ad4f48",
   "metadata": {},
   "outputs": [
    {
     "name": "stdout",
     "output_type": "stream",
     "text": [
      "và em luôn tin sau cơn mưa cầu vồng sẽ lấp lánh.\n"
     ]
    }
   ],
   "source": [
    "txt_1 = \"Và               em luôn tin sau cơn mưa cầu vồng sẽ lấp lánh.\"\n",
    "# Chuẩn hóa Unicode\n",
    "txt_1 = unicodedata.normalize('NFC', txt_1)\n",
    "\n",
    "# Chuyển về chữ thường\n",
    "txt_1 = txt_1.lower()\n",
    "\n",
    "# Loại bỏ khoảng trắng dư thừa\n",
    "txt_1 = re.sub(r\"\\s+\", \" \", txt_1).strip()\n",
    "print(txt_1)"
   ]
  },
  {
   "cell_type": "markdown",
   "id": "2999cb6f-fa4f-4422-bf92-3432d0034597",
   "metadata": {},
   "source": [
    "### 3.\tLoại bỏ stopwords và stemming/lemmatization\n",
    "#### Loại bỏ stopwords"
   ]
  },
  {
   "cell_type": "markdown",
   "id": "21966245-b25d-41d6-a582-b61f38a2ebde",
   "metadata": {},
   "source": [
    "Thư viện nltk chưa hỗ trợ tiếng Việt"
   ]
  },
  {
   "cell_type": "code",
   "execution_count": 15,
   "id": "ac2f157c-b50d-413d-ad2f-dfb400e8d6f6",
   "metadata": {},
   "outputs": [
    {
     "name": "stdout",
     "output_type": "stream",
     "text": [
      "['a', 'about', 'above', 'after', 'again', 'against', 'ain', 'all', 'am', 'an', 'and', 'any', 'are', 'aren', \"aren't\", 'as', 'at', 'be', 'because', 'been', 'before', 'being', 'below', 'between', 'both', 'but', 'by', 'can', 'couldn', \"couldn't\", 'd', 'did', 'didn', \"didn't\", 'do', 'does', 'doesn', \"doesn't\", 'doing', 'don', \"don't\", 'down', 'during', 'each', 'few', 'for', 'from', 'further', 'had', 'hadn', \"hadn't\", 'has', 'hasn', \"hasn't\", 'have', 'haven', \"haven't\", 'having', 'he', \"he'd\", \"he'll\", 'her', 'here', 'hers', 'herself', \"he's\", 'him', 'himself', 'his', 'how', 'i', \"i'd\", 'if', \"i'll\", \"i'm\", 'in', 'into', 'is', 'isn', \"isn't\", 'it', \"it'd\", \"it'll\", \"it's\", 'its', 'itself', \"i've\", 'just', 'll', 'm', 'ma', 'me', 'mightn', \"mightn't\", 'more', 'most', 'mustn', \"mustn't\", 'my', 'myself', 'needn', \"needn't\", 'no', 'nor', 'not', 'now', 'o', 'of', 'off', 'on', 'once', 'only', 'or', 'other', 'our', 'ours', 'ourselves', 'out', 'over', 'own', 're', 's', 'same', 'shan', \"shan't\", 'she', \"she'd\", \"she'll\", \"she's\", 'should', 'shouldn', \"shouldn't\", \"should've\", 'so', 'some', 'such', 't', 'than', 'that', \"that'll\", 'the', 'their', 'theirs', 'them', 'themselves', 'then', 'there', 'these', 'they', \"they'd\", \"they'll\", \"they're\", \"they've\", 'this', 'those', 'through', 'to', 'too', 'under', 'until', 'up', 've', 'very', 'was', 'wasn', \"wasn't\", 'we', \"we'd\", \"we'll\", \"we're\", 'were', 'weren', \"weren't\", \"we've\", 'what', 'when', 'where', 'which', 'while', 'who', 'whom', 'why', 'will', 'with', 'won', \"won't\", 'wouldn', \"wouldn't\", 'y', 'you', \"you'd\", \"you'll\", 'your', \"you're\", 'yours', 'yourself', 'yourselves', \"you've\"]\n"
     ]
    }
   ],
   "source": [
    "english_stopwords = stopwords.words('english')\n",
    "print(english_stopwords)"
   ]
  },
  {
   "cell_type": "code",
   "execution_count": 12,
   "id": "020945f4-a362-4387-b939-e3b20995f190",
   "metadata": {},
   "outputs": [],
   "source": [
    "def load_vietnamese_stopwords(filepath):\n",
    "    with open(filepath, 'r', encoding='utf-8') as f:\n",
    "        return set(line.strip().lower() for line in f if line.strip())\n",
    "\n",
    "vietnamese_stopwords = load_vietnamese_stopwords(\"vietnamese-stopwords.txt\")"
   ]
  },
  {
   "cell_type": "code",
   "execution_count": 18,
   "id": "3da7e9a5-615c-45d9-817b-bb9762cffeb4",
   "metadata": {},
   "outputs": [
    {
     "name": "stdout",
     "output_type": "stream",
     "text": [
      "['Ta', 'bắt_gặp', 'khắp', 'Sài_Gòn', 'yêu']\n"
     ]
    }
   ],
   "source": [
    "text_stopwords = \"Ta từng bắt gặp nhau ở khắp Sài Gòn chắc là lúc còn yêu dù muốn tránh cũng khó\"\n",
    "# Tách từ\n",
    "tokens_stopwords = word_tokenize(text_stopwords, format=\"text\").split()\n",
    "# Lọc stopwords\n",
    "filtered_tokens = [word for word in tokens_stopwords if word.lower() not in vietnamese_stopwords]\n",
    "print(filtered_tokens)"
   ]
  },
  {
   "cell_type": "markdown",
   "id": "76497541-e41f-4f93-b1ac-d96710277184",
   "metadata": {},
   "source": [
    "#### Stemming/ Lemmatization"
   ]
  },
  {
   "cell_type": "markdown",
   "id": "84f27433-8c07-4ed5-bc69-7bb5adf41275",
   "metadata": {},
   "source": [
    "#### Stemming"
   ]
  },
  {
   "cell_type": "code",
   "execution_count": 8,
   "id": "623776db-2e43-4ca2-ac9c-698e23897396",
   "metadata": {},
   "outputs": [
    {
     "name": "stdout",
     "output_type": "stream",
     "text": [
      "there\n",
      "are\n",
      "sever\n",
      "type\n",
      "of\n",
      "stem\n",
      "algorithm\n",
      ".\n"
     ]
    }
   ],
   "source": [
    "stemmer = PorterStemmer()\n",
    "input_str = \"There are several types of stemming algorithms.\"\n",
    "input_str = nltk.word_tokenize(input_str)\n",
    "for word in input_str:\n",
    "    print(stemmer.stem(word))"
   ]
  },
  {
   "cell_type": "markdown",
   "id": "fd7725ad-9007-42e0-9099-a09e1fb0d509",
   "metadata": {},
   "source": [
    "#### Lemmatization"
   ]
  },
  {
   "cell_type": "code",
   "execution_count": 12,
   "id": "77226f14-5672-416f-ba90-605b3ca8195c",
   "metadata": {},
   "outputs": [
    {
     "name": "stdout",
     "output_type": "stream",
     "text": [
      "been\n",
      "had\n",
      "done\n",
      "language\n",
      "city\n",
      "mouse\n"
     ]
    }
   ],
   "source": [
    "lemmatizer = WordNetLemmatizer()\n",
    "input_str = \"been had done languages cities mice\"\n",
    "input_str = nltk.word_tokenize(input_str)\n",
    "\n",
    "for word in input_str:\n",
    "    print(lemmatizer.lemmatize(word))"
   ]
  },
  {
   "attachments": {},
   "cell_type": "markdown",
   "id": "713bbd88-695b-4493-8eb1-0757dd08152b",
   "metadata": {},
   "source": [
    "### 4.\tXây dựng bộ từ điển n-gram từ văn bản"
   ]
  },
  {
   "cell_type": "code",
   "execution_count": 12,
   "id": "04a749a0-cd69-44b7-9850-65de40d5a77d",
   "metadata": {},
   "outputs": [
    {
     "name": "stdout",
     "output_type": "stream",
     "text": [
      "{'go': 4, ',': 3, '!': 2, 'don’t': 1, 'stop': 1}\n"
     ]
    }
   ],
   "source": [
    "def build_ngram(text, n=1):\n",
    "    text\n",
    "    tokens = word_tokenize(text.lower(), format=\"text\").split()\n",
    "    ngrams = defaultdict(int)\n",
    "    for i in range (len(tokens) - n + 1):\n",
    "        ngram = ' '.join(tokens[i:i+n])\n",
    "        ngrams[ngram] += 1\n",
    "    return dict(ngrams)\n",
    "\n",
    "text = \"Go, go, go, go! Don’t stop!\"\n",
    "bigram_dict = build_ngram(text, 1)\n",
    "\n",
    "print(bigram_dict)"
   ]
  }
 ],
 "metadata": {
  "kernelspec": {
   "display_name": "Python 3 (ipykernel)",
   "language": "python",
   "name": "python3"
  },
  "language_info": {
   "codemirror_mode": {
    "name": "ipython",
    "version": 3
   },
   "file_extension": ".py",
   "mimetype": "text/x-python",
   "name": "python",
   "nbconvert_exporter": "python",
   "pygments_lexer": "ipython3",
   "version": "3.11.3"
  }
 },
 "nbformat": 4,
 "nbformat_minor": 5
}
